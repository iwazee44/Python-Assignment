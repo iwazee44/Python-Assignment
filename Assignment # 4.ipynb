{
 "cells": [
  {
   "cell_type": "code",
   "execution_count": 1,
   "metadata": {},
   "outputs": [
    {
     "name": "stdout",
     "output_type": "stream",
     "text": [
      "Awais\n",
      "Waseem \n",
      "21\n",
      "Sujawal\n",
      "Bachlers from MUET Jamshoro Ali\n",
      "Ph.D from Sindh University: [Update] Aaliyan\n",
      "Ph.D from University of Australia : [Addition] Talha\n",
      "64\n",
      "English\n",
      "30\n",
      "{1: 31, 2: 28, 3: 31, 4: 30, 5: 31}\n",
      "(5, 31)\n",
      "{1: 31, 2: 28, 3: 31, 4: 30}\n",
      "{1: 31, 3: 31, 4: 30}\n",
      "{}\n"
     ]
    }
   ],
   "source": [
    "person = {\n",
    "    'first_name': 'Awais',\n",
    "    'last_name': 'Waseem ',\n",
    "    'age': 21,\n",
    "    'city': 'Sujawal',\n",
    "    }\n",
    "\n",
    "print(person['first_name'])\n",
    "print(person['last_name'])\n",
    "print(person['age'])\n",
    "print(person['city'])\n",
    "misc_dict = {'class': 'First Year', 1: [1, 2, 3, 4, 5]}\n",
    "dict = {'Student Name': 'Ali', 'Roll No.': 51, 'Subject': 'English'}\n",
    "print(\"Bachlers from MUET Jamshoro\", dict.get('Student Name'))\n",
    "dict['Student Name'] = 'Aaliyan'\n",
    "print(\"Ph.D from Sindh University: [Update]\", dict.get('Student Name'))\n",
    "dict['Student Name'] = 'Talha'\n",
    "print(\"Ph.D from University of Australia : [Addition]\", dict.get('Student Name'))\n",
    "dict = {'Student Name': 'Berry', 'Roll No.': 64, 'Subject': 'English'}\n",
    "print(dict.get('Roll No.'))\n",
    "print(dict.get('Subject'))\n",
    "\n",
    "sixMonths = {1:31, 2:28, 3:31, 4:30, 5:31, 6:30}\n",
    "print(sixMonths.pop(6)) \n",
    "print(sixMonths)\n",
    "print(sixMonths.popitem())\n",
    "print(sixMonths)\n",
    "del sixMonths[2]\n",
    "print(sixMonths)\n",
    "sixMonths.clear()\n",
    "print(sixMonths)"
   ]
  },
  {
   "cell_type": "code",
   "execution_count": 2,
   "metadata": {},
   "outputs": [
    {
     "name": "stdout",
     "output_type": "stream",
     "text": [
      "\n",
      "Karachi is in Pakistan.\n",
      "  It has a population of about 6158080.\n",
      "  The Andes mountains are nearby.\n",
      "\n",
      "Shahdadpur is in Pakistan.\n",
      "  It has a population of about 87600.\n",
      "  The Alaska Range mountains are nearby.\n",
      "\n",
      "Lahore is in Pakistan.\n",
      "  It has a population of about 1003285.\n",
      "  The K2 mountains are nearby.\n"
     ]
    }
   ],
   "source": [
    "cities = {\n",
    "    'Karachi': {\n",
    "        'Country': 'Pakistan',\n",
    "        'Population': 6158080,\n",
    "        'Nearby mountains': 'Andes',\n",
    "        },\n",
    "    'Shahdadpur': {\n",
    "        'Country': 'pakistan',\n",
    "        'Population': 87600,\n",
    "        'Nearby mountains': 'Alaska Range',\n",
    "        },\n",
    "    'Lahore': {\n",
    "        'Country': 'Pakistan',\n",
    "        'Population': 1003285,\n",
    "        'Nearby mountains': 'K2',\n",
    "        }\n",
    "    }\n",
    "\n",
    "for city, city_info in cities.items():\n",
    "    country = city_info['Country'].title()\n",
    "    population = city_info['Population']\n",
    "    mountains = city_info['Nearby mountains'].title()\n",
    "\n",
    "    print(\"\\n\" + city.title() + \" is in \" + country + \".\")\n",
    "    print(\"  It has a population of about \" + str(population) + \".\")\n",
    "    print(\"  The \" + mountains + \" mountains are nearby.\")"
   ]
  },
  {
   "cell_type": "code",
   "execution_count": 3,
   "metadata": {},
   "outputs": [
    {
     "name": "stdout",
     "output_type": "stream",
     "text": [
      "How old are you?\n",
      "Enter 'quit' when you are finished. 2\n",
      "  You get in free!\n",
      "How old are you?\n",
      "Enter 'quit' when you are finished. 5\n",
      "  Your ticket is $10.\n",
      "How old are you?\n",
      "Enter 'quit' when you are finished. 13\n",
      "  Your ticket is $15.\n",
      "How old are you?\n",
      "Enter 'quit' when you are finished. quit\n"
     ]
    }
   ],
   "source": [
    "prompt = \"How old are you?\"\n",
    "prompt += \"\\nEnter 'quit' when you are finished. \"\n",
    "\n",
    "while True:\n",
    "    age = input(prompt)\n",
    "    if age == 'quit':\n",
    "        break\n",
    "    age = int(age)\n",
    "\n",
    "    if age < 3:\n",
    "        print(\"  You get in free!\")\n",
    "    elif age < 13:\n",
    "        print(\"  Your ticket is $10.\")\n",
    "    else:\n",
    "        print(\"  Your ticket is $15.\")"
   ]
  },
  {
   "cell_type": "code",
   "execution_count": 6,
   "metadata": {},
   "outputs": [
    {
     "name": "stdout",
     "output_type": "stream",
     "text": [
      "gues_number.py\n",
      "GUESS NUMBER >1 AND <30 \n",
      "3\n",
      "1 <your number< 30\n",
      "3\n",
      "bingo answer is 3\n",
      "Press ENTER to continue for another guess file\n",
      "Guess a number (>30): 34\n",
      "You guessed it! The number was 34 in 1 tries\n"
     ]
    }
   ],
   "source": [
    "import random\n",
    " \n",
    "print(\"gues_number.py\")\n",
    "print(\"GUESS NUMBER >1 AND <30 \")\n",
    "answer = random.randint(1, 30)\n",
    "print(answer)\n",
    " \n",
    "maximum = 30\n",
    "maximum2 = 40\n",
    "minimum = 1\n",
    "new_min = 1\n",
    "new_max2 = 10\n",
    " \n",
    "print(minimum, \"<your number<\", maximum)\n",
    " \n",
    "while True:\n",
    "    guess = int(input())\n",
    "    if guess == answer:\n",
    "        print(\"bingo answer is\", answer)\n",
    "        break\n",
    "    elif guess < answer:\n",
    "        print(\"wrong answer, guess larger\")\n",
    "        new_max = guess\n",
    "        new_min = guess\n",
    "        print(guess, \"<?<\", new_max2)\n",
    "    else:\n",
    "        answer < guess\n",
    "        print(\"wrong answer, guess smaller\")\n",
    "        new_max2 = guess\n",
    "        new_min2 = guess\n",
    "        print(new_min, \"<?<\", guess)\n",
    "input(\"Press ENTER to continue for another guess file\")\n",
    "secret_number = 34\n",
    "tries, guess = 0, 0\n",
    "while guess != secret_number:\n",
    "    guess = int(input(\"Guess a number (>30): \"))\n",
    "    if guess > secret_number:\n",
    "        print(\"Lower...\")\n",
    "    elif guess < secret_number:\n",
    "        print(\"Higher...\")\n",
    "    tries += 1\n",
    " \n",
    "print('You guessed it! The number was {} in {} tries'.format(guess, tries))\n",
    "#input(\"Press ENTER to continue\")"
   ]
  },
  {
   "cell_type": "code",
   "execution_count": 8,
   "metadata": {},
   "outputs": [],
   "source": [
    "def favorite_book(title):\n",
    "    \"\"\"Display a message about someone's favorite book.\"\"\"\n",
    "    print(title + \" is one of my favorite books.\")\n",
    "    \n",
    "    favorite_book('Hamlet by William Shakespeare')\n"
   ]
  },
  {
   "cell_type": "code",
   "execution_count": null,
   "metadata": {},
   "outputs": [],
   "source": []
  }
 ],
 "metadata": {
  "kernelspec": {
   "display_name": "Python 3",
   "language": "python",
   "name": "python3"
  },
  "language_info": {
   "codemirror_mode": {
    "name": "ipython",
    "version": 3
   },
   "file_extension": ".py",
   "mimetype": "text/x-python",
   "name": "python",
   "nbconvert_exporter": "python",
   "pygments_lexer": "ipython3",
   "version": "3.7.3"
  }
 },
 "nbformat": 4,
 "nbformat_minor": 2
}
