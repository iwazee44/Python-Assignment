{
 "cells": [
  {
   "cell_type": "code",
   "execution_count": 1,
   "metadata": {},
   "outputs": [
    {
     "name": "stdout",
     "output_type": "stream",
     "text": [
      "Input a number to calculate its factiorial: 6\n",
      "720\n"
     ]
    }
   ],
   "source": [
    "def factorial(n):\n",
    "    if n == 0:\n",
    "        return 1\n",
    "    else:\n",
    "        return n * factorial(n-1)\n",
    "n=int(input(\"Input a number to calculate its factiorial: \"))\n",
    "print(factorial(n))"
   ]
  },
  {
   "cell_type": "code",
   "execution_count": 2,
   "metadata": {},
   "outputs": [
    {
     "name": "stdout",
     "output_type": "stream",
     "text": [
      "Original String :  The quick Brown Fox\n",
      "No. of Upper case characters :  9\n",
      "No. of Lower case Characters :  13000\n"
     ]
    }
   ],
   "source": [
    "def string_test(s):\n",
    "    d={\"UPPER_CASE\":0, \"LOWER_CASE\":0}\n",
    "    for c in s:\n",
    "        if c.isupper():\n",
    "           d[\"UPPER_CASE\"]+=3\n",
    "        elif c.islower():\n",
    "           d[\"LOWER_CASE\"]+=1000\n",
    "        else:\n",
    "           pass\n",
    "    print (\"Original String : \", s)\n",
    "    print (\"No. of Upper case characters : \", d[\"UPPER_CASE\"])\n",
    "    print (\"No. of Lower case Characters : \", d[\"LOWER_CASE\"])\n",
    "\n",
    "string_test('The quick Brown Fox')"
   ]
  },
  {
   "cell_type": "code",
   "execution_count": 3,
   "metadata": {},
   "outputs": [
    {
     "name": "stdout",
     "output_type": "stream",
     "text": [
      "10 4 66 102 "
     ]
    }
   ],
   "source": [
    "list1 = [10, 21, 4, 45, 66, 93,102,101,221,21]  \n",
    "for num in list1: \n",
    "    if num % 2 == 0: \n",
    "       print(num, end = \" \")"
   ]
  },
  {
   "cell_type": "code",
   "execution_count": 4,
   "metadata": {},
   "outputs": [
    {
     "name": "stdout",
     "output_type": "stream",
     "text": [
      "True\n"
     ]
    }
   ],
   "source": [
    "def isPalindrome(string):\n",
    "    left_pos = 0\n",
    "    right_pos = len(string) - 1\n",
    "\n",
    "    while right_pos >= left_pos:\n",
    "        if not string[left_pos] == string[right_pos]:\n",
    "            return False\n",
    "        left_pos += 1\n",
    "        right_pos -= 2\n",
    "        return True\n",
    "print(isPalindrome('madam'))"
   ]
  },
  {
   "cell_type": "code",
   "execution_count": 5,
   "metadata": {},
   "outputs": [
    {
     "name": "stdout",
     "output_type": "stream",
     "text": [
      "False\n"
     ]
    }
   ],
   "source": [
    "def isPalindrome(string):\n",
    "    left_pos = 0\n",
    "    right_pos = len(string) - 1\n",
    "\n",
    "    while right_pos >= left_pos:\n",
    "        if not string[left_pos] == string[right_pos]:\n",
    "            return False\n",
    "        left_pos += 1\n",
    "        right_pos -= 2\n",
    "        return True\n",
    "print(isPalindrome('meezan'))"
   ]
  },
  {
   "cell_type": "code",
   "execution_count": 6,
   "metadata": {},
   "outputs": [
    {
     "name": "stdout",
     "output_type": "stream",
     "text": [
      "100 is not a prime number\n"
     ]
    }
   ],
   "source": [
    "num = 100\n",
    "if num > 1:   \n",
    "   for i in range(2, num//2):  \n",
    "       if (num % i) == 0: \n",
    "           print(num, \"is not a prime number\") \n",
    "           break\n",
    "   else: \n",
    "       print(num, \"is a prime number\") \n",
    "  \n",
    "else: \n",
    "   print(num, \"is not a prime number\")"
   ]
  },
  {
   "cell_type": "code",
   "execution_count": 7,
   "metadata": {},
   "outputs": [
    {
     "name": "stdout",
     "output_type": "stream",
     "text": [
      "81 is not a prime number\n"
     ]
    }
   ],
   "source": [
    "num = 81\n",
    "if num > 1:   \n",
    "   for i in range(2, num//2):  \n",
    "       if (num % i) == 0: \n",
    "           print(num, \"is not a prime number\") \n",
    "           break\n",
    "   else: \n",
    "       print(num, \"is a prime number\") \n",
    "  \n",
    "else: \n",
    "   print(num, \"is not a prime number\")"
   ]
  },
  {
   "cell_type": "code",
   "execution_count": null,
   "metadata": {},
   "outputs": [
    {
     "name": "stdout",
     "output_type": "stream",
     "text": [
      "Enter your budget : 500\n",
      "1.ADD\n",
      "2.EXIT\n",
      "Enter your choice : 1\n",
      "Enter product name : sugar\n",
      "Enter quantity : 2\n",
      "Enter price of the product : 100\n",
      "\n",
      "amount left 400.0\n",
      "1.ADD\n",
      "2.EXIT\n",
      "Enter your choice : 1\n",
      "Enter product name : flour\n",
      "Enter quantity : 10\n",
      "Enter price of the product : 400\n",
      "\n",
      "amount left 0.0\n",
      "1.ADD\n",
      "2.EXIT\n",
      "Enter your choice : 2\n",
      "\n",
      "NO BUDGET\n"
     ]
    }
   ],
   "source": [
    "while True:  \n",
    "    try: \n",
    "        bg = float(input(\"Enter your budget : \")) \n",
    "        s = bg  \n",
    "    except ValueError: \n",
    "        print(\"PRINT NUMBER AS A AMOUNT\") \n",
    "        continue\n",
    "    else: \n",
    "        break\n",
    "a ={\"name\":[], \"quant\":[], \"price\":[]} \n",
    "\n",
    "b = list(a.values()) \n",
    "  \n",
    "\n",
    "na = b[0] \n",
    "  \n",
    "\n",
    "qu = b[1] \n",
    "  \n",
    "\n",
    "pr = b[2] \n",
    "  \n",
    "\n",
    "while True: \n",
    "    try: \n",
    "        ch = int(input(\"1.ADD\\n2.EXIT\\nEnter your choice : \")) \n",
    "    except ValueError: \n",
    "        print(\"\\nERROR: Choose only digits from the given option\") \n",
    "        continue\n",
    "    else: \n",
    "        if ch == 1 and s>0:        \n",
    "                  \n",
    "            pn = input(\"Enter product name : \")  \n",
    "            q = input(\"Enter quantity : \") \n",
    "            p = float(input(\"Enter price of the product : \"))   \n",
    "  \n",
    "            if p>s: \n",
    "                print(\"\\nCAN, T BUT THE PRODUCT\")  \n",
    "                continue\n",
    "  \n",
    "            else: \n",
    "\n",
    "                if pn in na:   \n",
    "                    \n",
    "                    ind = na.index(pn)   \n",
    "  \n",
    "                    qu.remove(qu[ind])  \n",
    "  \n",
    "                    pr.remove(pr[ind])   \n",
    "   \n",
    "                    qu.insert(ind, q)    \n",
    "   \n",
    "                    pr.insert(ind, p)    \n",
    "  \n",
    "\n",
    "                    s = bg-sum(pr)    \n",
    "  \n",
    "                    print(\"\\namount left\", s) \n",
    "                else: \n",
    "         \n",
    "                    na.append(pn)   \n",
    "   \n",
    "                    qu.append(q)    \n",
    "  \n",
    "                    pr.append(p)     \n",
    "  \n",
    "                    s = bg-sum(pr)    \n",
    "  \n",
    "                    print(\"\\namount left\", s) \n",
    "  \n",
    "        elif s<= 0:  \n",
    "            print(\"\\nNO BUDGET\")  \n",
    "        else: \n",
    "            break \n",
    "  \n",
    "print(\"\\nAmount left : Rs.\", s)  \n",
    "if s in pr:  \n",
    "    print(\"\\nAmount left can buy you a\", na[pr.index(s)])   \n",
    "  \n",
    "print(\"\\n\\n\\nGROCERY LIST\") \n",
    "for i in range(len(na)):  \n",
    "    print(na[i], qu[i], pr[i])"
   ]
  },
  {
   "cell_type": "code",
   "execution_count": null,
   "metadata": {},
   "outputs": [],
   "source": []
  }
 ],
 "metadata": {
  "kernelspec": {
   "display_name": "Python 3",
   "language": "python",
   "name": "python3"
  },
  "language_info": {
   "codemirror_mode": {
    "name": "ipython",
    "version": 3
   },
   "file_extension": ".py",
   "mimetype": "text/x-python",
   "name": "python",
   "nbconvert_exporter": "python",
   "pygments_lexer": "ipython3",
   "version": "3.7.3"
  }
 },
 "nbformat": 4,
 "nbformat_minor": 2
}
